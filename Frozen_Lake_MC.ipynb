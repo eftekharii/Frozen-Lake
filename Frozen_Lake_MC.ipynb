{
 "cells": [
  {
   "cell_type": "markdown",
   "metadata": {},
   "source": [
    "# First visit Monte-Carlo implementation "
   ]
  },
  {
   "cell_type": "markdown",
   "metadata": {},
   "source": [
    "## import libraries "
   ]
  },
  {
   "cell_type": "code",
   "execution_count": 1,
   "metadata": {
    "id": "zxZtVdkoU5PT"
   },
   "outputs": [],
   "source": [
    "import gym\n",
    "from tqdm import tqdm\n",
    "import random\n",
    "import numpy as np\n",
    "import matplotlib.pyplot as plt"
   ]
  },
  {
   "cell_type": "markdown",
   "metadata": {},
   "source": [
    "## Load FrozenLake environment with slippery  "
   ]
  },
  {
   "cell_type": "code",
   "execution_count": 32,
   "metadata": {
    "id": "_W4r1GLyVFr0"
   },
   "outputs": [],
   "source": [
    "env = gym.make(\"FrozenLake-v0\", is_slippery = True)"
   ]
  },
  {
   "cell_type": "markdown",
   "metadata": {},
   "source": [
    "## define opt_action function to choose next state based on top state value   "
   ]
  },
  {
   "cell_type": "code",
   "execution_count": 33,
   "metadata": {
    "id": "re3o-m0ap53R"
   },
   "outputs": [],
   "source": [
    "def opt_action(env,s):\n",
    "  values = []\n",
    "  for action in range(env.action_space.n):\n",
    "      if len(env.env.P[s][action]) > 1:\n",
    "        next_state = env.env.P[s][action][1][1]\n",
    "      else:\n",
    "        next_state = env.env.P[s][action][0][1]\n",
    "      values.append(v[next_state])\n",
    "  action = np.argmax(values)\n",
    "  return action"
   ]
  },
  {
   "cell_type": "markdown",
   "metadata": {},
   "source": [
    "## implement first visit monte carlo\n",
    "\n",
    "### we have 100 iteration and 5000 episode in each iteration to find optimal policy and test this policy for 50 times"
   ]
  },
  {
   "cell_type": "code",
   "execution_count": 34,
   "metadata": {
    "colab": {
     "base_uri": "https://localhost:8080/"
    },
    "id": "G5icOesIW0zz",
    "outputId": "d6e58c35-cf26-4b16-c523-840419f0af5d"
   },
   "outputs": [
    {
     "name": "stderr",
     "output_type": "stream",
     "text": [
      "100%|██████████| 100/100 [44:34<00:00, 26.75s/it]\n"
     ]
    }
   ],
   "source": [
    "w_r = []\n",
    "EPISODE_NUM = 5000\n",
    "TEST_NUM = 50\n",
    "Gamma = 0.9\n",
    "for k in tqdm(range(100)):\n",
    "  v = [0 for i in range(env.observation_space.n)]\n",
    "  win_rates = []\n",
    "  returns = {}\n",
    "  for s in range(env.observation_space.n):\n",
    "      returns[s] = []\n",
    "  for j in range(EPISODE_NUM):\n",
    "    env.reset()\n",
    "    s= env.s\n",
    "    states_rewards = []\n",
    "    done = False\n",
    "    while not done:\n",
    "      action = opt_action(env,s) if random.random()>0.3 else env.action_space.sample()\n",
    "      observation, reward, done, _ = env.step(action)\n",
    "      states_rewards.append((s,reward))\n",
    "      s = observation\n",
    "    G = 0\n",
    "    states_returns = []\n",
    "    for s,r in reversed(states_rewards):\n",
    "      G = Gamma * G + r\n",
    "      states_returns.append((s,G))\n",
    "    states_returns.reverse() \n",
    "    seen_states = []    \n",
    "    for s, G in states_returns:\n",
    "        if s not in seen_states:\n",
    "            returns[s].append(G)\n",
    "            v[s] = np.mean(returns[s])\n",
    "            seen_states.append(s)\n",
    "    \n",
    "    policy = []\n",
    "    for s in range(env.observation_space.n):\n",
    "      policy.append(opt_action(env,s))\n",
    "    win_rate = 0\n",
    "    steps = [0 for i in range(TEST_NUM)]\n",
    "    for i in range(TEST_NUM):\n",
    "      env.reset()\n",
    "      done = False\n",
    "      s = 0\n",
    "      while not done:\n",
    "        s, r, done, _ = env.step(policy[s])\n",
    "        steps[i] += 1\n",
    "      if r>0:\n",
    "        win_rate += 1\n",
    "    win_rates.append(win_rate/100)\n",
    "  w_r.append(win_rates)"
   ]
  },
  {
   "cell_type": "markdown",
   "metadata": {},
   "source": [
    "after 44m:34s, we have final policy"
   ]
  },
  {
   "cell_type": "code",
   "execution_count": 35,
   "metadata": {
    "colab": {
     "base_uri": "https://localhost:8080/"
    },
    "id": "-sgBzufpzXK6",
    "outputId": "931d2c19-b9ba-4ba8-8e6f-5042515c9018",
    "scrolled": true
   },
   "outputs": [
    {
     "name": "stdout",
     "output_type": "stream",
     "text": [
      "[1, 2, 1, 0, 1, 0, 1, 0, 2, 1, 1, 0, 0, 2, 1, 0]\n"
     ]
    }
   ],
   "source": [
    "print(policy)"
   ]
  },
  {
   "cell_type": "markdown",
   "metadata": {},
   "source": [
    "u can see mean of win rates on each iteration"
   ]
  },
  {
   "cell_type": "code",
   "execution_count": 36,
   "metadata": {
    "colab": {
     "base_uri": "https://localhost:8080/",
     "height": 283
    },
    "id": "obAetmlpHiSl",
    "outputId": "fd6ed59f-f810-4f36-e89d-5f5cccb5815e"
   },
   "outputs": [
    {
     "data": {
      "text/plain": [
       "[<matplotlib.lines.Line2D at 0x7f6120db68d0>]"
      ]
     },
     "execution_count": 36,
     "metadata": {},
     "output_type": "execute_result"
    },
    {
     "data": {
      "image/png": "[encoded data removed]",
      "text/plain": [
       "<Figure size 432x288 with 1 Axes>"
      ]
     },
     "metadata": {
      "needs_background": "light"
     },
     "output_type": "display_data"
    }
   ],
   "source": [
    "plt.plot(np.mean(w_r, axis = 0))"
   ]
  }
 ],
 "metadata": {
  "colab": {
   "collapsed_sections": [],
   "name": "Frozen Lake-MC.ipynb",
   "provenance": []
  },
  "kernelspec": {
   "display_name": "Python 3 (ipykernel)",
   "language": "python",
   "name": "python3"
  },
  "language_info": {
   "codemirror_mode": {
    "name": "ipython",
    "version": 3
   },
   "file_extension": ".py",
   "mimetype": "text/x-python",
   "name": "python",
   "nbconvert_exporter": "python",
   "pygments_lexer": "ipython3",
   "version": "3.9.6"
  }
 },
 "nbformat": 4,
 "nbformat_minor": 1
}
