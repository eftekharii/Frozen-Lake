{
 "cells": [
  {
   "cell_type": "markdown",
   "metadata": {},
   "source": [
    "# Q-Learning implementation"
   ]
  },
  {
   "cell_type": "markdown",
   "metadata": {},
   "source": [
    "## import libraries"
   ]
  },
  {
   "cell_type": "code",
   "execution_count": 2,
   "metadata": {
    "id": "lTPbYf22QOJv"
   },
   "outputs": [],
   "source": [
    "import gym\n",
    "from tqdm import tqdm\n",
    "import random\n",
    "import numpy as np\n",
    "import matplotlib.pyplot as plt"
   ]
  },
  {
   "cell_type": "markdown",
   "metadata": {},
   "source": [
    "## Load FrozenLake environment with slippery "
   ]
  },
  {
   "cell_type": "code",
   "execution_count": 3,
   "metadata": {
    "id": "ID8llj2lQs88"
   },
   "outputs": [],
   "source": [
    "env = gym.make(\"FrozenLake-v0\", is_slippery = True)"
   ]
  },
  {
   "cell_type": "markdown",
   "metadata": {},
   "source": [
    "## q_learning function for calculate state-action values (Q) on each episode "
   ]
  },
  {
   "cell_type": "code",
   "execution_count": 4,
   "metadata": {
    "id": "AaHTMcjrq7Ax"
   },
   "outputs": [],
   "source": [
    "def q_learning(env,s,alpha,gamma):\n",
    "  done = False\n",
    "  while not done:\n",
    "    action = np.argmax(q_value[s]) if random.random()>0.3 else env.action_space.sample()\n",
    "    observation, reward, done, _ = env.step(action)\n",
    "    q_value[s][action] = q_value[s][action] + alpha * (reward + gamma * max(q_value[observation]) - q_value[s][action])\n",
    "    s = observation"
   ]
  },
  {
   "cell_type": "markdown",
   "metadata": {},
   "source": [
    "## implement Q-learning\n",
    "\n",
    "### we have 100 iteration and 5000 episode in each iteration to find optimal policy and test this policy for 50 times "
   ]
  },
  {
   "cell_type": "code",
   "execution_count": 5,
   "metadata": {
    "colab": {
     "base_uri": "https://localhost:8080/"
    },
    "id": "oUrTHzuBAdvT",
    "outputId": "7b72a242-0ba9-45c5-8f15-e6684f04d5e5"
   },
   "outputs": [
    {
     "name": "stderr",
     "output_type": "stream",
     "text": [
      "100%|██████████| 100/100 [2:52:36<00:00, 103.56s/it]\n"
     ]
    }
   ],
   "source": [
    "w_r = []\n",
    "EPISODE_NUM = 5000\n",
    "TEST_NUM = 50\n",
    "alpha = 0.1\n",
    "gamma = 0.9\n",
    "for k in tqdm(range(100)):\n",
    "  q_value = [[0]* env.action_space.n for i in range(env.observation_space.n)]\n",
    "  win_rates = []\n",
    "  for j in range(EPISODE_NUM):\n",
    "    env.reset()\n",
    "    s= env.s\n",
    "    q_learning(env,s,alpha,gamma)\n",
    "    policy = [np.argmax(actions) for actions in q_value]\n",
    "    win_rate = 0\n",
    "    steps = [0 for i in range(TEST_NUM)]\n",
    "    for i in range(TEST_NUM):\n",
    "      env.reset()\n",
    "      done = False\n",
    "      s = 0\n",
    "      while not done:\n",
    "        s, r, done, _ = env.step(policy[s])\n",
    "        steps[i] += 1\n",
    "      if r>0:\n",
    "        win_rate += 1\n",
    "    win_rates.append(win_rate/100)\n",
    "  w_r.append(win_rates)"
   ]
  },
  {
   "cell_type": "markdown",
   "metadata": {},
   "source": [
    "after 2h:52m:36s , we have final policy"
   ]
  },
  {
   "cell_type": "code",
   "execution_count": 6,
   "metadata": {
    "colab": {
     "base_uri": "https://localhost:8080/"
    },
    "id": "rM5vE0eL7BNp",
    "outputId": "93cf38da-da30-478b-89c8-2fa01c58644e"
   },
   "outputs": [
    {
     "name": "stdout",
     "output_type": "stream",
     "text": [
      "[2, 3, 0, 3, 0, 0, 2, 0, 3, 1, 1, 0, 0, 1, 1, 0]\n"
     ]
    }
   ],
   "source": [
    "print(policy)"
   ]
  },
  {
   "cell_type": "markdown",
   "metadata": {},
   "source": [
    "u can see mean of win rates on each iteration"
   ]
  },
  {
   "cell_type": "code",
   "execution_count": 7,
   "metadata": {
    "colab": {
     "base_uri": "https://localhost:8080/",
     "height": 283
    },
    "id": "G1HdktGLReni",
    "outputId": "afc89789-5287-4f67-e1c7-10607da95245"
   },
   "outputs": [
    {
     "data": {
      "text/plain": [
       "[<matplotlib.lines.Line2D at 0x7fa9b40cacd0>]"
      ]
     },
     "execution_count": 7,
     "metadata": {},
     "output_type": "execute_result"
    },
    {
     "data": {
      "image/png": "[encoded data removed]",
      "text/plain": [
       "<Figure size 432x288 with 1 Axes>"
      ]
     },
     "metadata": {
      "needs_background": "light"
     },
     "output_type": "display_data"
    }
   ],
   "source": [
    "plt.plot(np.mean(w_r, axis = 0))"
   ]
  }
 ],
 "metadata": {
  "colab": {
   "collapsed_sections": [],
   "name": "Frozen Lake - QL.ipynb",
   "provenance": []
  },
  "kernelspec": {
   "display_name": "Python 3 (ipykernel)",
   "language": "python",
   "name": "python3"
  },
  "language_info": {
   "codemirror_mode": {
    "name": "ipython",
    "version": 3
   },
   "file_extension": ".py",
   "mimetype": "text/x-python",
   "name": "python",
   "nbconvert_exporter": "python",
   "pygments_lexer": "ipython3",
   "version": "3.9.6"
  }
 },
 "nbformat": 4,
 "nbformat_minor": 1
}
