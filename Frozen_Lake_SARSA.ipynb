{
 "cells": [
  {
   "cell_type": "markdown",
   "metadata": {},
   "source": [
    "# SARSA implementation"
   ]
  },
  {
   "cell_type": "markdown",
   "metadata": {},
   "source": [
    "## import libraries "
   ]
  },
  {
   "cell_type": "code",
   "execution_count": null,
   "metadata": {
    "id": "vXeTcuYqTZjM"
   },
   "outputs": [],
   "source": [
    "import gym\n",
    "from tqdm import tqdm\n",
    "import random\n",
    "import numpy as np\n",
    "import matplotlib.pyplot as plt"
   ]
  },
  {
   "cell_type": "markdown",
   "metadata": {},
   "source": [
    "## Load FrozenLake environment with slippery "
   ]
  },
  {
   "cell_type": "code",
   "execution_count": null,
   "metadata": {
    "id": "bSQsQ9csfwn3"
   },
   "outputs": [],
   "source": [
    "env = gym.make(\"FrozenLake-v0\", is_slippery = True)"
   ]
  },
  {
   "cell_type": "markdown",
   "metadata": {},
   "source": [
    "## sarsa function for calculate state-action values (Q) on each episode"
   ]
  },
  {
   "cell_type": "code",
   "execution_count": null,
   "metadata": {
    "id": "F1dD6qH97T6R"
   },
   "outputs": [],
   "source": [
    "def sarsa(env,s,alpha,gamma):\n",
    "  done = False\n",
    "  action = np.argmax(q_value[s]) if random.random()>0.3 else env.action_space.sample()\n",
    "  while not done:\n",
    "    observation, reward, done, _ = env.step(action)\n",
    "    next_action = np.argmax(q_value[observation]) if random.random()>0.3 else env.action_space.sample()\n",
    "    q_value[s][action] = q_value[s][action] + alpha * (reward + gamma * q_value[observation][next_action] - q_value[s][action])\n",
    "    s = observation\n",
    "    action = next_action"
   ]
  },
  {
   "cell_type": "markdown",
   "metadata": {},
   "source": [
    "## implement SARSA\n",
    "\n",
    "### we have 100 iteration and 5000 episode in each iteration to find optimal policy and test this policy for 50 times "
   ]
  },
  {
   "cell_type": "code",
   "execution_count": null,
   "metadata": {
    "colab": {
     "base_uri": "https://localhost:8080/"
    },
    "id": "oUrTHzuBAdvT",
    "outputId": "b6fe0ebb-1db2-4f68-b283-62083238aa1c"
   },
   "outputs": [
    {
     "name": "stderr",
     "output_type": "stream",
     "text": [
      "100%|██████████| 100/100 [1:46:53<00:00, 64.14s/it]\n"
     ]
    }
   ],
   "source": [
    "w_r = []\n",
    "EPISODE_NUM = 5000\n",
    "TEST_NUM = 50\n",
    "alpha = 0.1\n",
    "gamma = 0.9\n",
    "for k in tqdm(range(100)):\n",
    "  q_value = [[0]* env.action_space.n for i in range(env.observation_space.n)]\n",
    "  win_rates = []\n",
    "  for j in range(EPISODE_NUM):\n",
    "    env.reset()\n",
    "    s= env.s\n",
    "    sarsa(env,s,alpha,gamma)\n",
    "    policy = [np.argmax(actions) for actions in q_value]\n",
    "    win_rate = 0\n",
    "    steps = [0 for i in range(TEST_NUM)]\n",
    "    for i in range(TEST_NUM):\n",
    "      env.reset()\n",
    "      done = False\n",
    "      s = 0\n",
    "      while not done:\n",
    "        s, r, done, _ = env.step(policy[s])\n",
    "        steps[i] += 1\n",
    "      if r>0:\n",
    "        win_rate += 1\n",
    "    win_rates.append(win_rate/100)\n",
    "  w_r.append(win_rates)"
   ]
  },
  {
   "cell_type": "markdown",
   "metadata": {},
   "source": [
    "after 1h:46m:53s , we have final policy"
   ]
  },
  {
   "cell_type": "code",
   "execution_count": null,
   "metadata": {
    "colab": {
     "base_uri": "https://localhost:8080/"
    },
    "id": "9xSBqqEA652_",
    "outputId": "5503b573-07e0-4322-8439-d45817ab3504"
   },
   "outputs": [
    {
     "name": "stdout",
     "output_type": "stream",
     "text": [
      "[0, 3, 1, 3, 0, 0, 1, 0, 3, 1, 1, 0, 0, 2, 1, 0]\n"
     ]
    }
   ],
   "source": [
    "print(policy)"
   ]
  },
  {
   "cell_type": "markdown",
   "metadata": {},
   "source": [
    "u can see mean of win rates on each iteration"
   ]
  },
  {
   "cell_type": "code",
   "execution_count": null,
   "metadata": {
    "colab": {
     "base_uri": "https://localhost:8080/",
     "height": 283
    },
    "id": "PPWsp9otf1cL",
    "outputId": "1b5e9e67-a642-4411-91f7-dfb3dc24d337"
   },
   "outputs": [
    {
     "data": {
      "text/plain": [
       "[<matplotlib.lines.Line2D at 0x7fa6a9917910>]"
      ]
     },
     "execution_count": 11,
     "metadata": {},
     "output_type": "execute_result"
    },
    {
     "data": {
      "image/png": "[encoded data removed]",
      "text/plain": [
       "<Figure size 432x288 with 1 Axes>"
      ]
     },
     "metadata": {
      "needs_background": "light"
     },
     "output_type": "display_data"
    }
   ],
   "source": [
    "plt.plot(np.mean(w_r, axis = 0))"
   ]
  }
 ],
 "metadata": {
  "colab": {
   "collapsed_sections": [],
   "name": "Frozen Lake - SARSA.ipynb",
   "provenance": []
  },
  "kernelspec": {
   "display_name": "Python 3 (ipykernel)",
   "language": "python",
   "name": "python3"
  },
  "language_info": {
   "codemirror_mode": {
    "name": "ipython",
    "version": 3
   },
   "file_extension": ".py",
   "mimetype": "text/x-python",
   "name": "python",
   "nbconvert_exporter": "python",
   "pygments_lexer": "ipython3",
   "version": "3.9.6"
  }
 },
 "nbformat": 4,
 "nbformat_minor": 1
}
